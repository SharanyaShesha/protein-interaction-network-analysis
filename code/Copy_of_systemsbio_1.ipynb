{
  "nbformat": 4,
  "nbformat_minor": 0,
  "metadata": {
    "colab": {
      "provenance": [],
      "gpuType": "T4"
    },
    "kernelspec": {
      "name": "python3",
      "display_name": "Python 3"
    },
    "language_info": {
      "name": "python"
    },
    "accelerator": "GPU"
  },
  "cells": [
    {
      "cell_type": "code",
      "source": [
        "!pip install networkx matplotlib seaborn pandas\n"
      ],
      "metadata": {
        "id": "dX4IzkPqEotH",
        "colab": {
          "base_uri": "https://localhost:8080/"
        },
        "outputId": "f9fbbe86-0271-4d03-963f-c6a0de9aaeb9"
      },
      "execution_count": null,
      "outputs": [
        {
          "output_type": "stream",
          "name": "stdout",
          "text": [
            "Requirement already satisfied: networkx in /usr/local/lib/python3.11/dist-packages (3.4.2)\n",
            "Requirement already satisfied: matplotlib in /usr/local/lib/python3.11/dist-packages (3.10.0)\n",
            "Requirement already satisfied: seaborn in /usr/local/lib/python3.11/dist-packages (0.13.2)\n",
            "Requirement already satisfied: pandas in /usr/local/lib/python3.11/dist-packages (2.2.2)\n",
            "Requirement already satisfied: contourpy>=1.0.1 in /usr/local/lib/python3.11/dist-packages (from matplotlib) (1.3.1)\n",
            "Requirement already satisfied: cycler>=0.10 in /usr/local/lib/python3.11/dist-packages (from matplotlib) (0.12.1)\n",
            "Requirement already satisfied: fonttools>=4.22.0 in /usr/local/lib/python3.11/dist-packages (from matplotlib) (4.55.7)\n",
            "Requirement already satisfied: kiwisolver>=1.3.1 in /usr/local/lib/python3.11/dist-packages (from matplotlib) (1.4.8)\n",
            "Requirement already satisfied: numpy>=1.23 in /usr/local/lib/python3.11/dist-packages (from matplotlib) (1.26.4)\n",
            "Requirement already satisfied: packaging>=20.0 in /usr/local/lib/python3.11/dist-packages (from matplotlib) (24.2)\n",
            "Requirement already satisfied: pillow>=8 in /usr/local/lib/python3.11/dist-packages (from matplotlib) (11.1.0)\n",
            "Requirement already satisfied: pyparsing>=2.3.1 in /usr/local/lib/python3.11/dist-packages (from matplotlib) (3.2.1)\n",
            "Requirement already satisfied: python-dateutil>=2.7 in /usr/local/lib/python3.11/dist-packages (from matplotlib) (2.8.2)\n",
            "Requirement already satisfied: pytz>=2020.1 in /usr/local/lib/python3.11/dist-packages (from pandas) (2024.2)\n",
            "Requirement already satisfied: tzdata>=2022.7 in /usr/local/lib/python3.11/dist-packages (from pandas) (2025.1)\n",
            "Requirement already satisfied: six>=1.5 in /usr/local/lib/python3.11/dist-packages (from python-dateutil>=2.7->matplotlib) (1.17.0)\n"
          ]
        }
      ]
    },
    {
      "cell_type": "code",
      "source": [
        "\n",
        "from google.colab import drive\n",
        "drive.mount('/content/drive')\n"
      ],
      "metadata": {
        "colab": {
          "base_uri": "https://localhost:8080/"
        },
        "id": "deUUWrli8MGQ",
        "outputId": "32db8ac9-4a2c-4f52-d855-974b8e270a1b"
      },
      "execution_count": null,
      "outputs": [
        {
          "output_type": "stream",
          "name": "stdout",
          "text": [
            "Mounted at /content/drive\n"
          ]
        }
      ]
    },
    {
      "cell_type": "code",
      "source": [
        "import zipfile\n",
        "\n",
        "\n",
        "zip_path = \"/content/drive/My Drive/BIOGRID-ORGANISM-4.4.218.tab3.zip\"\n",
        "extract_path = \"/content/drive/My Drive/BIOGRID-ORGANISM-4.4.218.tab3\"\n",
        "\n",
        "with zipfile.ZipFile(zip_path, 'r') as zip_ref:\n",
        "    zip_ref.extractall(extract_path)\n",
        "\n",
        "print(\"Extraction complete!\")\n"
      ],
      "metadata": {
        "colab": {
          "base_uri": "https://localhost:8080/"
        },
        "id": "MtTCowpH8L3M",
        "outputId": "7caad940-91bf-4aba-afe6-fd523a770b7a"
      },
      "execution_count": null,
      "outputs": [
        {
          "output_type": "stream",
          "name": "stdout",
          "text": [
            "Extraction complete!\n"
          ]
        }
      ]
    },
    {
      "cell_type": "code",
      "source": [
        "import pandas as pd\n",
        "\n",
        "# Update with the correct filename from the previous step\n",
        "file_path = \"/content/drive/My Drive/BIOGRID-ORGANISM-4.4.218.tab3/BIOGRID-ORGANISM-Homo_sapiens-4.4.218.tab3.txt\"\n",
        "\n",
        "# Read the file as a DataFrame\n",
        "df = pd.read_csv(file_path, sep=\"\\t\", low_memory=False)\n",
        "\n",
        "# Print first few rows\n",
        "print(df.head())\n"
      ],
      "metadata": {
        "colab": {
          "base_uri": "https://localhost:8080/"
        },
        "id": "jCuZEP-aFNYT",
        "outputId": "c3317888-0580-46a2-9418-5463ecf449e6"
      },
      "execution_count": null,
      "outputs": [
        {
          "output_type": "stream",
          "name": "stdout",
          "text": [
            "   #BioGRID Interaction ID Entrez Gene Interactor A Entrez Gene Interactor B  \\\n",
            "0                      103                     6416                     2318   \n",
            "1                      117                    84665                       88   \n",
            "2                      183                       90                     2339   \n",
            "3                      278                     2624                     5371   \n",
            "4                      418                     6118                     6774   \n",
            "\n",
            "   BioGRID ID Interactor A  BioGRID ID Interactor B  \\\n",
            "0                   112315                   108607   \n",
            "1                   124185                   106603   \n",
            "2                   106605                   108625   \n",
            "3                   108894                   111384   \n",
            "4                   112038                   112651   \n",
            "\n",
            "  Systematic Name Interactor A Systematic Name Interactor B  \\\n",
            "0                            -                            -   \n",
            "1                            -                            -   \n",
            "2                            -                            -   \n",
            "3                            -                            -   \n",
            "4                  RP4-547C9.3                            -   \n",
            "\n",
            "  Official Symbol Interactor A Official Symbol Interactor B  \\\n",
            "0                       MAP2K4                         FLNC   \n",
            "1                         MYPN                        ACTN2   \n",
            "2                        ACVR1                         FNTA   \n",
            "3                        GATA2                          PML   \n",
            "4                         RPA2                        STAT3   \n",
            "\n",
            "                               Synonyms Interactor A  ...  \\\n",
            "0  JNKK|JNKK1|MAPKK4|MEK4|MKK4|PRKMK4|SAPKK-1|SAP...  ...   \n",
            "1                             CMD1DD|CMH22|MYOP|RCM4  ...   \n",
            "2            ACTRI|ACVR1A|ACVRLK2|ALK2|FOP|SKR1|TSRI  ...   \n",
            "3                           DCML|IMD21|MONOMAC|NFE1B  ...   \n",
            "4                      REPA2|RP-A p32|RP-A p34|RPA32  ...   \n",
            "\n",
            "  TREMBL Accessions Interactor B  \\\n",
            "0                         Q59H94   \n",
            "1                  Q59FD9|F6THM6   \n",
            "2                              -   \n",
            "3                              -   \n",
            "4                              -   \n",
            "\n",
            "                      REFSEQ Accessions Interactor B Ontology Term IDs  \\\n",
            "0                             NP_001120959|NP_001449                 -   \n",
            "1                NP_001094|NP_001265272|NP_001265273                 -   \n",
            "2                                          NP_002018                 -   \n",
            "3  NP_150250|NP_150253|NP_150252|NP_150247|NP_150...                 -   \n",
            "4  NP_644805|NP_003141|NP_001356447|NP_001356443|...                 -   \n",
            "\n",
            "  Ontology Term Names Ontology Term Categories  Ontology Term Qualifier IDs  \\\n",
            "0                   -                        -                            -   \n",
            "1                   -                        -                            -   \n",
            "2                   -                        -                            -   \n",
            "3                   -                        -                            -   \n",
            "4                   -                        -                            -   \n",
            "\n",
            "   Ontology Term Qualifier Names Ontology Term Types  \\\n",
            "0                              -                   -   \n",
            "1                              -                   -   \n",
            "2                              -                   -   \n",
            "3                              -                   -   \n",
            "4                              -                   -   \n",
            "\n",
            "  Organism Name Interactor A Organism Name Interactor B  \n",
            "0               Homo sapiens               Homo sapiens  \n",
            "1               Homo sapiens               Homo sapiens  \n",
            "2               Homo sapiens               Homo sapiens  \n",
            "3               Homo sapiens               Homo sapiens  \n",
            "4               Homo sapiens               Homo sapiens  \n",
            "\n",
            "[5 rows x 37 columns]\n"
          ]
        }
      ]
    },
    {
      "cell_type": "code",
      "source": [
        "import networkx as nx\n",
        "\n",
        "# Create a graph object\n",
        "G = nx.Graph()\n",
        "\n",
        "# Add edges from BioGRID data (assuming 'Official Symbol Interactor A' and 'Official Symbol Interactor B' are column names)\n",
        "for _, row in df.iterrows():\n",
        "    G.add_edge(row[\"Official Symbol Interactor A\"], row[\"Official Symbol Interactor B\"])\n",
        "\n",
        "print(f\"Graph created with {G.number_of_nodes()} nodes and {G.number_of_edges()} edges.\")\n"
      ],
      "metadata": {
        "colab": {
          "base_uri": "https://localhost:8080/"
        },
        "id": "wkJdJQiiVO0Q",
        "outputId": "f3e7c140-6312-4093-9031-cc7ff7a81427"
      },
      "execution_count": null,
      "outputs": [
        {
          "output_type": "stream",
          "name": "stdout",
          "text": [
            "Graph created with 26771 nodes and 856635 edges.\n"
          ]
        }
      ]
    },
    {
      "cell_type": "code",
      "source": [
        "# Compute node degrees\n",
        "degree_dict = dict(G.degree())\n",
        "\n",
        "# Get the top 10 hub nodes (highest degree)\n",
        "top_10_hubs = sorted(degree_dict.items(), key=lambda x: x[1], reverse=True)[:10]\n",
        "print(\"Top 10 Hub Nodes:\")\n",
        "for node, degree in top_10_hubs:\n",
        "    print(f\"{node}: {degree}\")\n"
      ],
      "metadata": {
        "colab": {
          "base_uri": "https://localhost:8080/"
        },
        "id": "g2MYYgEFVpHU",
        "outputId": "45970ae6-b610-4d3e-ba07-c0868be39e41"
      },
      "execution_count": null,
      "outputs": [
        {
          "output_type": "stream",
          "name": "stdout",
          "text": [
            "Top 10 Hub Nodes:\n",
            "ZRANB1: 4160\n",
            "PARK2: 3426\n",
            "EGFR: 3070\n",
            "PLEKHA4: 2971\n",
            "KIAA1429: 2932\n",
            "KRAS: 2891\n",
            "MYC: 2817\n",
            "CCNF: 2798\n",
            "CUL3: 2656\n",
            "TRIM25: 2497\n"
          ]
        }
      ]
    },
    {
      "cell_type": "code",
      "source": [
        "import matplotlib.pyplot as plt\n",
        "import numpy as np\n",
        "\n",
        "degrees = list(degree_dict.values())\n",
        "\n",
        "plt.figure(figsize=(8,6))\n",
        "plt.hist(degrees, bins=50, color='blue', alpha=0.7)\n",
        "plt.yscale('log')  # Log scale to check scale-free property\n",
        "plt.xlabel(\"Node Degree\")\n",
        "plt.ylabel(\"Frequency (log scale)\")\n",
        "plt.title(\"Degree Distribution of the BioGRID Network\")\n",
        "plt.show()\n"
      ],
      "metadata": {
        "colab": {
          "base_uri": "https://localhost:8080/",
          "height": 564
        },
        "id": "luukR9ikVtAW",
        "outputId": "5e6361f2-a6bd-4876-860d-ee75345bceb6"
      },
      "execution_count": null,
      "outputs": [
        {
          "output_type": "display_data",
          "data": {
            "text/plain": [
              "<Figure size 800x600 with 1 Axes>"
            ],
            "image/png": "[encoded data removed]"
          },
          "metadata": {}
        }
      ]
    },
    {
      "cell_type": "code",
      "source": [
        "!pip install powerlaw\n",
        "\n",
        "import powerlaw\n",
        "\n",
        "# Fit degree data to power law\n",
        "fit = powerlaw.Fit(degrees)\n",
        "print(f\"Power-law alpha: {fit.alpha}\")\n",
        "\n",
        "# Plot PDF with power-law fit\n",
        "plt.figure(figsize=(8, 6))\n",
        "fit.plot_pdf(color='b', linewidth=2)\n",
        "fit.power_law.plot_pdf(color='r', linestyle='--')\n",
        "plt.xlabel('Degree')\n",
        "plt.ylabel('Frequency')\n",
        "plt.title('Degree Distribution with Power-Law Fit')\n",
        "plt.show()\n"
      ],
      "metadata": {
        "colab": {
          "base_uri": "https://localhost:8080/",
          "height": 916
        },
        "id": "wasQ_yiGWeOr",
        "outputId": "88767fdd-3a2b-4db4-ade1-aaba4f722c10"
      },
      "execution_count": null,
      "outputs": [
        {
          "output_type": "stream",
          "name": "stdout",
          "text": [
            "Collecting powerlaw\n",
            "  Downloading powerlaw-1.5-py3-none-any.whl.metadata (9.3 kB)\n",
            "Requirement already satisfied: scipy in /usr/local/lib/python3.11/dist-packages (from powerlaw) (1.13.1)\n",
            "Requirement already satisfied: numpy in /usr/local/lib/python3.11/dist-packages (from powerlaw) (1.26.4)\n",
            "Requirement already satisfied: matplotlib in /usr/local/lib/python3.11/dist-packages (from powerlaw) (3.10.0)\n",
            "Requirement already satisfied: mpmath in /usr/local/lib/python3.11/dist-packages (from powerlaw) (1.3.0)\n",
            "Requirement already satisfied: contourpy>=1.0.1 in /usr/local/lib/python3.11/dist-packages (from matplotlib->powerlaw) (1.3.1)\n",
            "Requirement already satisfied: cycler>=0.10 in /usr/local/lib/python3.11/dist-packages (from matplotlib->powerlaw) (0.12.1)\n",
            "Requirement already satisfied: fonttools>=4.22.0 in /usr/local/lib/python3.11/dist-packages (from matplotlib->powerlaw) (4.55.7)\n",
            "Requirement already satisfied: kiwisolver>=1.3.1 in /usr/local/lib/python3.11/dist-packages (from matplotlib->powerlaw) (1.4.8)\n",
            "Requirement already satisfied: packaging>=20.0 in /usr/local/lib/python3.11/dist-packages (from matplotlib->powerlaw) (24.2)\n",
            "Requirement already satisfied: pillow>=8 in /usr/local/lib/python3.11/dist-packages (from matplotlib->powerlaw) (11.1.0)\n",
            "Requirement already satisfied: pyparsing>=2.3.1 in /usr/local/lib/python3.11/dist-packages (from matplotlib->powerlaw) (3.2.1)\n",
            "Requirement already satisfied: python-dateutil>=2.7 in /usr/local/lib/python3.11/dist-packages (from matplotlib->powerlaw) (2.8.2)\n",
            "Requirement already satisfied: six>=1.5 in /usr/local/lib/python3.11/dist-packages (from python-dateutil>=2.7->matplotlib->powerlaw) (1.17.0)\n",
            "Downloading powerlaw-1.5-py3-none-any.whl (24 kB)\n",
            "Installing collected packages: powerlaw\n",
            "Successfully installed powerlaw-1.5\n",
            "Calculating best minimal value for power law fit\n",
            "Power-law alpha: 3.2188777183684416\n"
          ]
        },
        {
          "output_type": "display_data",
          "data": {
            "text/plain": [
              "<Figure size 800x600 with 1 Axes>"
            ],
            "image/png": "[encoded data removed]"
          },
          "metadata": {}
        }
      ]
    },
    {
      "cell_type": "code",
      "source": [
        "import networkx as nx\n",
        "import matplotlib.pyplot as plt\n",
        "import random\n",
        "\n",
        "# Compute shortest path lengths for all node pairs\n",
        "shortest_path_lengths = []\n",
        "\n",
        "# Use Dijkstra's algorithm (better for large graphs)\n",
        "lengths_dict = dict(nx.all_pairs_dijkstra_path_length(G))\n",
        "\n",
        "# Extract all path lengths into a list\n",
        "for source, targets in lengths_dict.items():\n",
        "    for target, length in targets.items():\n",
        "        if source != target:  # Ignore self-loops (distance = 0)\n",
        "            shortest_path_lengths.append(length)\n",
        "\n",
        "# Plot histogram of shortest path lengths\n",
        "plt.hist(shortest_path_lengths, bins=20, density=True, alpha=0.6, color='b')\n",
        "plt.xlabel('Shortest Path Length')\n",
        "plt.ylabel('Frequency')\n",
        "plt.title('Shortest Path Length Distribution')\n",
        "plt.show()"
      ],
      "metadata": {
        "id": "sLy1ksXUGNRN"
      },
      "execution_count": null,
      "outputs": []
    },
    {
      "cell_type": "code",
      "source": [
        "import networkx as nx\n",
        "\n",
        "# Compute betweenness centrality (efficiently using approximation)\n",
        "betweenness = nx.betweenness_centrality(G, k=1000)  # Approximate using 1000 sample nodes\n",
        "top_10_betweenness = sorted(betweenness.items(), key=lambda x: x[1], reverse=True)[:10]\n",
        "\n",
        "print(\"Top 10 Nodes by Betweenness Centrality:\")\n",
        "for node, score in top_10_betweenness:\n",
        "    print(f\"Node {node}: {score}\")"
      ],
      "metadata": {
        "id": "gkMDe65dHRiR"
      },
      "execution_count": null,
      "outputs": []
    },
    {
      "cell_type": "code",
      "source": [
        "# Precompute shortest paths\n",
        "shortest_paths = dict(nx.all_pairs_shortest_path_length(G))\n",
        "\n",
        "# Compute closeness manually using precomputed shortest paths\n",
        "closeness = {}\n",
        "for node in G.nodes():\n",
        "    total_distance = sum(shortest_paths[node].values())\n",
        "    closeness[node] = (len(shortest_paths[node]) - 1) / total_distance if total_distance > 0 else 0\n",
        "\n",
        "# Get the top 10 nodes by closeness\n",
        "top_10_closeness = sorted(closeness.items(), key=lambda x: x[1], reverse=True)[:10]\n",
        "\n",
        "print(\"\\nTop 10 Nodes by Closeness Centrality:\")\n",
        "for node, score in top_10_closeness:\n",
        "    print(f\"Node {node}: {score}\")\n"
      ],
      "metadata": {
        "id": "-5LrnClgW8Uk"
      },
      "execution_count": null,
      "outputs": []
    }
  ]
}